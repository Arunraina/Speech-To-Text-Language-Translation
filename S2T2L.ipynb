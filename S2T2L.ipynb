{
 "cells": [
  {
   "cell_type": "code",
   "execution_count": 2,
   "metadata": {},
   "outputs": [],
   "source": [
    "import pandas as pd\n",
    "import numpy as np\n",
    "import sys\n",
    "import time\n",
    "import matplotlib.pyplot as plt"
   ]
  },
  {
   "cell_type": "code",
   "execution_count": 20,
   "metadata": {},
   "outputs": [],
   "source": [
    "from ibm_watson import SpeechToTextV1"
   ]
  },
  {
   "cell_type": "code",
   "execution_count": null,
   "metadata": {},
   "outputs": [],
   "source": [
    "url_s2t=\"https://gateway-lon.watsonplatform.net/speech-to-text/api\"\n",
    "iam_apikey_s2t=\"VHvJeBICM7AfUeZnq6mwPeXAuk__ToiqwGRlcBA2rjhX\"\n",
    "s2t= SpeechToTextV1(iam_apikey=iam_apikey_s2t, url=url_s2t)\n"
   ]
  },
  {
   "cell_type": "code",
   "execution_count": 36,
   "metadata": {},
   "outputs": [],
   "source": [
    "from ibm_watson import SpeechToTextV1\n",
    "from ibm_cloud_sdk_core.authenticators import IAMAuthenticator\n",
    "\n",
    "authenticator = IAMAuthenticator('HvJeBICM7AfUeZnq6mwPeXAuk__ToiqwGRlcBA2rjhX')\n",
    "service = SpeechToTextV1(\n",
    "   authenticator=authenticator\n",
    ")"
   ]
  },
  {
   "cell_type": "code",
   "execution_count": 42,
   "metadata": {},
   "outputs": [],
   "source": [
    "service.set_service_url('https://gateway-lon.watsonplatform.net/speech-to-text/api')"
   ]
  },
  {
   "cell_type": "code",
   "execution_count": null,
   "metadata": {},
   "outputs": [],
   "source": [
    "filename= 'C:\\Users\\dell\\Desktop\\malevoice.wav'\n",
    "with open(filename, mode= \"rb\") as wav:\n",
    "    response = s2t.recognize(audio=wav, content_type = 'audio/wav')\n",
    "    response.result"
   ]
  },
  {
   "cell_type": "code",
   "execution_count": null,
   "metadata": {},
   "outputs": [],
   "source": [
    "    recognised_text= response.result(['results'][0]['alternatives'][0],['transcript'])\n",
    "recognised_text"
   ]
  },
  {
   "cell_type": "code",
   "execution_count": null,
   "metadata": {},
   "outputs": [],
   "source": [
    "from ibm_watson import LangaugeTranslatorV3\n",
    "url_lt=\"https://gateway-lon.watsonplatform.net/language-translator/api\"\n",
    "apikey_lt= \"upqq8Ii04i123agAou21vcBiqHwxOQUUO_k34kBu_K1c\"\n",
    "language_translator= LangaugeTranslatorV3(iam_api_key=apikey_lt, url=url_lt)\n",
    "language_translator.list_indentifiable_languages.get_result()\n",
    "translation_resposne= language_translator.translate(text= recognised_text, model_id =\"en-es\""
   ]
  },
  {
   "cell_type": "code",
   "execution_count": null,
   "metadata": {},
   "outputs": [],
   "source": [
    "translation = translation_response.get_result()\n",
    "spanish_translation = translation(['translations'][0]['translation'])\n",
    "spanish_translation"
   ]
  },
  {
   "cell_type": "code",
   "execution_count": null,
   "metadata": {},
   "outputs": [],
   "source": []
  }
 ],
 "metadata": {
  "kernelspec": {
   "display_name": "Python 3",
   "language": "python",
   "name": "python3"
  },
  "language_info": {
   "codemirror_mode": {
    "name": "ipython",
    "version": 3
   },
   "file_extension": ".py",
   "mimetype": "text/x-python",
   "name": "python",
   "nbconvert_exporter": "python",
   "pygments_lexer": "ipython3",
   "version": "3.7.3"
  }
 },
 "nbformat": 4,
 "nbformat_minor": 2
}
