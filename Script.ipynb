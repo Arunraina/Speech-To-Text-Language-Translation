#you will need the following library 
pip install ibm_watson wget

{
 "cells": [
  {
   "cell_type": "code",
   "execution_count": 2,
   "metadata": {},
   "outputs": [],
   "source": [
    "import pandas as pd\n",
    "import numpy as np\n",
    "import Curl \n",
    from ibm_watson import SpeechToTextV1
import json
from ibm_cloud_sdk_core.authenticators import IAMAuthenticator
   ]
  },
  {
   "cell_type": "code",
   "execution_count": 20,
   "metadata": {},
   "outputs": [],
   "source": [
    "from ibm_watson import SpeechToTextV1"
   ]
  },
  {
   "cell_type": "code",
   "execution_count": 36,
   "metadata": {},
   "outputs": [],
   "source": [
    url_s2t = "https://gateway-lon.watsonplatform.net/speech-to-text/api"
authenticator = IAMAuthenticator('Api_key')
s2t = SpeechToTextV1(authenticator=authenticator)
s2t.set_service_url(url_s2t)
s2t
    ")"
   ]
  },
  {
   "cell_type": "code",
   "execution_count": 42,
   "metadata": {},
   "outputs": [],
   "source": [
    "service.set_service_url('https://gateway-lon.watsonplatform.net/speech-to-text/api')"
   ]
  },
  {
   "cell_type": "code",
   "execution_count": null,
   "metadata": {},
   "outputs": [],
   "source": [
    "filename= '#Audio_File_Location\n",
    "with open(filename, mode= \"rb\") as wav:\n",
    "    response = s2t.recognize(audio=wav, content_type = 'audio/wav')\n",
    "    response.result"
   ]
  },
  {
   "cell_type": "code",
   "execution_count": null,
   "metadata": {},
   "outputs": [],
   "source": [
    "    recognised_text= response.result(['results'][0]['alternatives'][0],['transcript'])\n",
    "recognised_text"
   ]
  },
  {
   "cell_type": "code",
   "execution_count": null,
   "metadata": {},
   "outputs": [],
   "source": [
    "from ibm_watson import LangaugeTranslatorV3\n",
    "url_lt=\"https://gateway-lon.watsonplatform.net/language-translator/api\"\n",
    "apikey_lt= \"Enter_Api_Key\"\n",
    "language_translator= LangaugeTranslatorV3(iam_api_key=apikey_lt, url=url_lt)\n",
    "language_translator.list_indentifiable_languages.get_result()\n",
    "translation_resposne= language_translator.translate(text= recognised_text, model_id =\"en-es\""
   ]
  },
  {
   "cell_type": "code",
   "execution_count": null,
   "metadata": {},
   "outputs": [],
   "source": [
    "translation = translation_response.get_result()\n",
    "spanish_translation = translation(['translations'][0]['translation'])\n",
    "spanish_translation"
   ]
  },
  {
   "cell_type": "code",
   "execution_count": null,
   "metadata": {},
   "outputs": [],
   "source": []
  }
 ],
 "metadata": {
  "kernelspec": {
   "display_name": "Python 3",
   "language": "python",
   "name": "python3"
  },
  "language_info": {
   "codemirror_mode": {
    "name": "ipython",
    "version": 3
   },
   "file_extension": ".py",
   "mimetype": "text/x-python",
   "name": "python",
   "nbconvert_exporter": "python",
   "pygments_lexer": "ipython3",
   "version": "3.7.3"
  }
 },
 "nbformat": 4,
 "nbformat_minor": 2
}
